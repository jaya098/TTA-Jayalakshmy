{
 "cells": [
  {
   "cell_type": "code",
   "execution_count": 1,
   "metadata": {},
   "outputs": [
    {
     "name": "stdout",
     "output_type": "stream",
     "text": [
      "3\n",
      "45\n",
      "83\n",
      "\n",
      "3\n",
      "45\n",
      "83\n",
      "21\n",
      "\n"
     ]
    }
   ],
   "source": [
    "# Week 2 Task 1\n",
    "f = open(\"Numbers.txt\", \"w\")\n",
    "f.write(\"3\\n\")\n",
    "f.write(\"45\\n\")\n",
    "f.write(\"83\\n\")\n",
    "f.close()\n",
    "\n",
    "f = open(\"Numbers.txt\", \"r\")\n",
    "print(f.read())\n",
    "\n",
    "f = open(\"Numbers.txt\", \"a\")\n",
    "f.write(\"21\\n\")\n",
    "\n",
    "f = open(\"Numbers.txt\", \"r\")\n",
    "print(f.read())"
   ]
  },
  {
   "cell_type": "code",
   "execution_count": 16,
   "metadata": {},
   "outputs": [
    {
     "ename": "ValueError",
     "evalue": "could not convert string to float: ''",
     "output_type": "error",
     "traceback": [
      "\u001b[1;31m---------------------------------------------------------------------------\u001b[0m",
      "\u001b[1;31mValueError\u001b[0m                                Traceback (most recent call last)",
      "\u001b[1;32m~\\AppData\\Local\\Temp/ipykernel_7304/3465961313.py\u001b[0m in \u001b[0;36m<module>\u001b[1;34m\u001b[0m\n\u001b[0;32m     13\u001b[0m \u001b[1;33m\u001b[0m\u001b[0m\n\u001b[0;32m     14\u001b[0m \u001b[0mmark\u001b[0m \u001b[1;33m=\u001b[0m \u001b[0minput\u001b[0m\u001b[1;33m(\u001b[0m\u001b[1;34m\"Enter your percentage mark: \"\u001b[0m\u001b[1;33m)\u001b[0m\u001b[1;33m\u001b[0m\u001b[1;33m\u001b[0m\u001b[0m\n\u001b[1;32m---> 15\u001b[1;33m \u001b[0mmark\u001b[0m \u001b[1;33m=\u001b[0m \u001b[0mfloat\u001b[0m\u001b[1;33m(\u001b[0m\u001b[0mmark\u001b[0m\u001b[1;33m)\u001b[0m\u001b[1;33m\u001b[0m\u001b[1;33m\u001b[0m\u001b[0m\n\u001b[0m\u001b[0;32m     16\u001b[0m \u001b[0mtarget_grade\u001b[0m \u001b[1;33m=\u001b[0m \u001b[0minput\u001b[0m\u001b[1;33m(\u001b[0m\u001b[1;34m\"Enter your target grade: \"\u001b[0m\u001b[1;33m)\u001b[0m\u001b[1;33m\u001b[0m\u001b[1;33m\u001b[0m\u001b[0m\n\u001b[0;32m     17\u001b[0m \u001b[0mexam_grade\u001b[0m \u001b[1;33m=\u001b[0m \u001b[0mmark_grade\u001b[0m\u001b[1;33m(\u001b[0m\u001b[0mmark\u001b[0m\u001b[1;33m,\u001b[0m \u001b[0mtarget_grade\u001b[0m\u001b[1;33m)\u001b[0m\u001b[1;33m\u001b[0m\u001b[1;33m\u001b[0m\u001b[0m\n",
      "\u001b[1;31mValueError\u001b[0m: could not convert string to float: ''"
     ]
    }
   ],
   "source": [
    "def mark_grade(mark, target_grade):\n",
    "    \n",
    "    if mark <= 49:\n",
    "        exam_grade = \"D\"\n",
    "    elif mark <= 59:\n",
    "        exam_grade = \"c\"\n",
    "    elif mark <= 69:\n",
    "        exam_grade = \"B\"\n",
    "    else:\n",
    "        exam_grade = \"A\"\n",
    "    return exam_grade\n",
    "\n",
    "\n",
    "mark = input(\"Enter your percentage mark: \")\n",
    "mark = int(mark)\n",
    "target_grade = input(\"Enter your target grade: \")\n",
    "exam_grade = mark_grade(mark, target_grade)\n",
    "if target_grade == exam_grade:\n",
    "    print(f\"Your grade is {exam_grade} based on your marks, so you have scored the expected grade\")\n",
    "elif target_grade < exam_grade:\n",
    "    print(f\"Your grade is {exam_grade} based on your marks, so you have scored less than your expected grade ({target_grade})\")\n",
    "else:\n",
    "    print(f\"Your grade is {exam_grade} based on your marks, so you have scored more than your expected grade ({target_grade})\")\n"
   ]
  }
 ],
 "metadata": {
  "interpreter": {
   "hash": "51da98e5ffb82ff3fa1d3475b20a3c70841b732126cbf27902f9cd1eab2d1ec2"
  },
  "kernelspec": {
   "display_name": "Python 3.9.0 64-bit",
   "name": "python3"
  },
  "language_info": {
   "codemirror_mode": {
    "name": "ipython",
    "version": 3
   },
   "file_extension": ".py",
   "mimetype": "text/x-python",
   "name": "python",
   "nbconvert_exporter": "python",
   "pygments_lexer": "ipython3",
   "version": "3.9.0"
  },
  "orig_nbformat": 4
 },
 "nbformat": 4,
 "nbformat_minor": 2
}
