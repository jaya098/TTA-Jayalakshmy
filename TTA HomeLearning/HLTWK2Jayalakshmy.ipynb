{
 "cells": [
  {
   "cell_type": "code",
   "execution_count": 1,
   "metadata": {},
   "outputs": [
    {
     "name": "stdout",
     "output_type": "stream",
     "text": [
      "3\n",
      "45\n",
      "83\n",
      "\n",
      "3\n",
      "45\n",
      "83\n",
      "21\n",
      "\n"
     ]
    }
   ],
   "source": [
    "# Week 2 Task 1\n",
    "f = open(\"Numbers.txt\", \"w\")\n",
    "f.write(\"3\\n\")\n",
    "f.write(\"45\\n\")\n",
    "f.write(\"83\\n\")\n",
    "f.close()\n",
    "\n",
    "f = open(\"Numbers.txt\", \"r\")\n",
    "print(f.read())\n",
    "\n",
    "f = open(\"Numbers.txt\", \"a\")\n",
    "f.write(\"21\\n\")\n",
    "\n",
    "f = open(\"Numbers.txt\", \"r\")\n",
    "print(f.read())"
   ]
  },
  {
   "cell_type": "code",
   "execution_count": 20,
   "metadata": {},
   "outputs": [
    {
     "name": "stdout",
     "output_type": "stream",
     "text": [
      "Your grade is D based on your marks, so you have scored less than your expected grade (A)\n"
     ]
    }
   ],
   "source": [
    "def mark_grade(mark, target_grade):\n",
    "    \n",
    "    if mark <= 49:\n",
    "        exam_grade = \"D\"\n",
    "    elif mark <= 59:\n",
    "        exam_grade = \"c\"\n",
    "    elif mark <= 69:\n",
    "        exam_grade = \"B\"\n",
    "    else:\n",
    "        exam_grade = \"A\"\n",
    "    return exam_grade\n",
    "\n",
    "\n",
    "mark = input(\"Enter your percentage mark: \")\n",
    "mark = int(mark)\n",
    "target_grade = input(\"Enter your target grade: \")\n",
    "exam_grade = mark_grade(mark, target_grade)\n",
    "if target_grade == exam_grade:\n",
    "    print(f\"Your grade is {exam_grade} based on your marks, so you have scored the expected grade\")\n",
    "elif target_grade < exam_grade:\n",
    "    print(f\"Your grade is {exam_grade} based on your marks, so you have scored less than your expected grade ({target_grade})\")\n",
    "else:\n",
    "    print(f\"Your grade is {exam_grade} based on your marks, so you have scored more than your expected grade ({target_grade})\")\n"
   ]
  },
  {
   "cell_type": "code",
   "execution_count": 21,
   "metadata": {},
   "outputs": [
    {
     "name": "stdout",
     "output_type": "stream",
     "text": [
      "QUESTION 1 : 1D array from 0 to 9:  [0 1 2 3 4 5 6 7 8 9]\n",
      "QUESTION 2 : 3x3 NumPy array of Boolean value Trues \n",
      " [[1 1 1]\n",
      " [1 1 1]\n",
      " [1 1 1]]\n",
      "All numbers in range 1 to 10:  [ 1  2  3  4  5  6  7  8  9 10]\n",
      "QUESTION 3 : Odd numbers in array 1 to 10:\n",
      " [1 3 5 7 9]\n",
      "QUESTION 4 : Odd number replace with -1: \n",
      " [-1  2 -1  4 -1  6 -1  8 -1 10]\n",
      "QUESTION 5: 1D array to 2D array\n",
      " [[1 2]\n",
      " [3 4]]\n",
      "QUESTION 6: Multiplation of 2 arrays:\n",
      " [[19 22]\n",
      " [43 50]]\n",
      "Sum:  [62 72]\n"
     ]
    }
   ],
   "source": [
    "# Week 2 Home Learning Project\n",
    "import numpy as np\n",
    "\n",
    "# 1. Create a 1D array of numbers from 0 to 9\n",
    "num_array = np.arange(10)\n",
    "print(\"QUESTION 1 : 1D array from 0 to 9: \", num_array)\n",
    "\n",
    "# 2. Create a 3×3 NumPy array of all Boolean value Trues\n",
    "num_array_boolean = np.array([1,1,1,1,1,1,1,1,1]).reshape(3,3)\n",
    "print(\"QUESTION 2 : 3x3 NumPy array of Boolean value Trues \\n\",num_array_boolean)\n",
    "\n",
    "# 3. Extract all odd numbers from array of 1-10\n",
    "all_numbers = np.arange(1,11,1)\n",
    "print(\"All numbers in range 1 to 10: \",all_numbers)\n",
    "odd_numbers = all_numbers[all_numbers % 2 == 1]\n",
    "print(\"QUESTION 3 : Odd numbers in array 1 to 10:\\n\", odd_numbers)\n",
    "\n",
    "# 4. Replace all odd numbers in an array of 1-10 with the value -1\n",
    "all_numbers1 = np.arange(1,11,1)\n",
    "odd_num_replace = np.where(all_numbers1 % 2 ==1, -1, all_numbers1)\n",
    "print(\"QUESTION 4 : Odd number replace with -1: \\n\",odd_num_replace)\n",
    "\n",
    "# 5. Convert a 1D array to a 2D array with 2 rows\n",
    "two_d_array = np.arange(1,5)\n",
    "two_d_array = two_d_array.reshape(2,2)\n",
    "print(\"QUESTION 5: 1D array to 2D array\\n\",two_d_array)\n",
    "\n",
    "# 6. Create two arrays a and b, stack these two arrays vertically use the np.dot and\n",
    "# np.sum to calculate totals\n",
    "a = np.arange(1,5).reshape(2,2)\n",
    "b = np.arange(5,9).reshape(2,2)\n",
    "multiply = np.dot(a, b)\n",
    "print(\"QUESTION 6: Multiplation of 2 arrays:\\n\",multiply)\n",
    "sum = np.sum(multiply,axis =0)\n",
    "print(\"Sum: \",sum)\n"
   ]
  },
  {
   "cell_type": "code",
   "execution_count": 22,
   "metadata": {},
   "outputs": [
    {
     "name": "stdout",
     "output_type": "stream",
     "text": [
      "Final output\n",
      " [1 1 1 2 2 2 3 3 3 1 2 3 1 2 3 1 2 3]\n"
     ]
    }
   ],
   "source": [
    "# Week 2 Home Learning project EXTENSION \n",
    "# Task 1\n",
    "import numpy as np\n",
    "\n",
    "arr_1 = np.full((1,3), 1)\n",
    "arr_2 = np.full((1,3),2)\n",
    "arr_3 = np.full((1,3),3)\n",
    "arr = np.arange(1,4,1)\n",
    "\n",
    "final = np.concatenate((arr_1,arr_2),axis=1)\n",
    "final = np.concatenate((final,arr_3),axis=1)\n",
    "final = final.flatten()\n",
    "#print(final)\n",
    "final1 = np.concatenate((arr,arr))\n",
    "final1 = np.concatenate((arr,final1))\n",
    "final_list = np.concatenate((final,final1))\n",
    "\n",
    "print(\"Final output\\n\",final_list)"
   ]
  },
  {
   "cell_type": "code",
   "execution_count": 23,
   "metadata": {},
   "outputs": [
    {
     "name": "stdout",
     "output_type": "stream",
     "text": [
      "List a:\n",
      " [1 2 3 4 5]\n",
      "List b:\n",
      " [4 5 6 7 8 9]\n",
      "List of b after removing duplicates from a: \n",
      " [6 7 8 9]\n",
      "[4 5]\n",
      "[4 5 6]\n",
      "Sum of items between 3 and 7 in array a and b:  24\n"
     ]
    }
   ],
   "source": [
    "# Week 2 Home Learning project EXTENSION \n",
    "# Task 2\n",
    "import numpy as np\n",
    "A = np.array([1,2,3,4,5])\n",
    "print(\"List a:\\n\",A)\n",
    "B = np.array([4,5,6,7,8,9])\n",
    "print(\"List b:\\n\",B)\n",
    "\n",
    "C = np.array(list(filter(lambda x: x not in A,B)))\n",
    "print(\"List of b after removing duplicates from a: \\n\",C)\n",
    "updated_a = A[A > 3]\n",
    "print(updated_a)\n",
    "updated_b = B[B < 7]\n",
    "print(updated_b)\n",
    "add_array1 = np.sum(updated_a, axis=0)\n",
    "add_array2 = np.sum(updated_b, axis=0)\n",
    "final = add_array1 + add_array2\n",
    "print(\"Sum of items between 3 and 7 in array a and b: \",final)"
   ]
  }
 ],
 "metadata": {
  "interpreter": {
   "hash": "51da98e5ffb82ff3fa1d3475b20a3c70841b732126cbf27902f9cd1eab2d1ec2"
  },
  "kernelspec": {
   "display_name": "Python 3.9.0 64-bit",
   "name": "python3"
  },
  "language_info": {
   "codemirror_mode": {
    "name": "ipython",
    "version": 3
   },
   "file_extension": ".py",
   "mimetype": "text/x-python",
   "name": "python",
   "nbconvert_exporter": "python",
   "pygments_lexer": "ipython3",
   "version": "3.9.0"
  },
  "orig_nbformat": 4
 },
 "nbformat": 4,
 "nbformat_minor": 2
}
