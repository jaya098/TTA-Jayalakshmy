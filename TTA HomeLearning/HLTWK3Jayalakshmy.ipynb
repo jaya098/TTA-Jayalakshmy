{
 "cells": [
  {
   "cell_type": "code",
   "execution_count": 22,
   "metadata": {},
   "outputs": [
    {
     "name": "stdout",
     "output_type": "stream",
     "text": [
      "                Destinations  Feedback_Score  Avg_Hotel_Star_Rating  \\\n",
      "0             United Kingdom               9                      4   \n",
      "1                      India               8                      3   \n",
      "2   United States of America               8                      3   \n",
      "3                     Mexico               8                      3   \n",
      "4                     France               7                      4   \n",
      "5                New Zealand               9                      4   \n",
      "6                  Australia               8                      4   \n",
      "7                 Madagascar               7                      3   \n",
      "8                   Cambodia               7                      3   \n",
      "9                  Sri Lanka               7                      4   \n",
      "10                    Brazil               7                      4   \n",
      "11                  Mongolia               6                      3   \n",
      "12                    Sweden               8                      4   \n",
      "13                   Veitnam               6                      3   \n",
      "\n",
      "    Num_All_Inclusive_Hotels Most_Visited_City  \n",
      "0                       1200            London  \n",
      "1                       1000           Chennai  \n",
      "2                       1100          New York  \n",
      "3                        500       Mexico City  \n",
      "4                        700             Paris  \n",
      "5                        900          Auckland  \n",
      "6                       1000            Sydney  \n",
      "7                        400      Antananarivo  \n",
      "8                        300        Angkor Wat  \n",
      "9                        700          Sigiriya  \n",
      "10                       750    Rio de Janerio  \n",
      "11                       500         Karakorum  \n",
      "12                       800         Stockholm  \n",
      "13                       600        Halong Bay  \n",
      "Number of rows in Holiday Destination file:  14\n",
      "Number of columns in Holiday Destination file:  5\n"
     ]
    }
   ],
   "source": [
    "import matplotlib.pyplot as plt\n",
    "import pandas as pd\n",
    "\n",
    "tourist_data = pd.read_csv(\"Holiday_Destination.csv\")\n",
    "\n",
    "print(tourist_data)\n",
    "# 1. How many rows and columns are there in your file?\n",
    "tourist_data.shape\n",
    "rows = len(tourist_data.axes[0])\n",
    "columns = len(tourist_data.axes[1])\n",
    "print(\"Number of rows in Holiday Destination file: \", rows)\n",
    "print(\"Number of columns in Holiday Destination file: \", columns)"
   ]
  },
  {
   "cell_type": "code",
   "execution_count": 21,
   "metadata": {},
   "outputs": [
    {
     "name": "stdout",
     "output_type": "stream",
     "text": [
      "Data between from 3 to 8\n",
      "\n",
      "  Destinations  Feedback_Score  Avg_Hotel_Star_Rating  \\\n",
      "3       Mexico               8                      3   \n",
      "4       France               7                      4   \n",
      "5  New Zealand               9                      4   \n",
      "6    Australia               8                      4   \n",
      "7   Madagascar               7                      3   \n",
      "8     Cambodia               7                      3   \n",
      "\n",
      "   Num_All_Inclusive_Hotels Most_Visited_City  \n",
      "3                       500       Mexico City  \n",
      "4                       700             Paris  \n",
      "5                       900          Auckland  \n",
      "6                      1000            Sydney  \n",
      "7                       400      Antananarivo  \n",
      "8                       300        Angkor Wat  \n"
     ]
    }
   ],
   "source": [
    "# 2. Print row 3-8 ( using iloc/loc)\n",
    "print(\"Data between from 3 to 8\\n\")\n",
    "print(tourist_data.iloc[3:9])"
   ]
  },
  {
   "cell_type": "code",
   "execution_count": 20,
   "metadata": {},
   "outputs": [
    {
     "name": "stdout",
     "output_type": "stream",
     "text": [
      "Mean number of all-inclusive hotels across all destinations:  746.4285714285714\n",
      "*****\n"
     ]
    }
   ],
   "source": [
    "# 3. Find the mean number of all-inclusive hotels across all destinations.\n",
    "mean_all_inclusive = tourist_data[\"Num_All_Inclusive_Hotels\"].mean()\n",
    "print(\"Mean number of all-inclusive hotels across all destinations: \", mean_all_inclusive)\n",
    "print(\"*****\")"
   ]
  },
  {
   "cell_type": "code",
   "execution_count": 19,
   "metadata": {},
   "outputs": [
    {
     "name": "stdout",
     "output_type": "stream",
     "text": [
      "The lowest scoring (Feedback score):  6\n",
      "The lowest scoring country:\n",
      "11    Mongolia\n",
      "13     Veitnam\n",
      "Name: Destinations, dtype: object\n"
     ]
    }
   ],
   "source": [
    "# 4. Find the lowest scoring destination\n",
    "lowest_scoring = tourist_data[\"Feedback_Score\"].min()\n",
    "print(\"The lowest scoring (Feedback score): \", lowest_scoring)\n",
    "print(\"The lowest scoring country:\")\n",
    "lowest_scoring_destination = tourist_data.loc[tourist_data[\"Feedback_Score\"] == lowest_scoring]\n",
    "print(lowest_scoring_destination[\"Destinations\"])"
   ]
  },
  {
   "cell_type": "code",
   "execution_count": 18,
   "metadata": {},
   "outputs": [
    {
     "name": "stdout",
     "output_type": "stream",
     "text": [
      "The highest scoring (Feedback score):  9\n",
      "The highest scoring country:\n",
      "0    United Kingdom\n",
      "5       New Zealand\n",
      "Name: Destinations, dtype: object\n"
     ]
    }
   ],
   "source": [
    "# 5. Find the highest scoring destination.\n",
    "highest_scoring = tourist_data[\"Feedback_Score\"].max()\n",
    "print(\"The highest scoring (Feedback score): \", highest_scoring)\n",
    "print(\"The highest scoring country:\")\n",
    "highest_scoring_destination = tourist_data.loc[tourist_data[\"Feedback_Score\"] == highest_scoring]\n",
    "print(highest_scoring_destination[\"Destinations\"])"
   ]
  },
  {
   "cell_type": "code",
   "execution_count": 17,
   "metadata": {},
   "outputs": [
    {
     "name": "stdout",
     "output_type": "stream",
     "text": [
      "All the destinations where there are more than 9 all-inclusive hotels:\n",
      "                Destinations  Feedback_Score  Avg_Hotel_Star_Rating  \\\n",
      "0             United Kingdom               9                      4   \n",
      "1                      India               8                      3   \n",
      "2   United States of America               8                      3   \n",
      "3                     Mexico               8                      3   \n",
      "4                     France               7                      4   \n",
      "5                New Zealand               9                      4   \n",
      "6                  Australia               8                      4   \n",
      "7                 Madagascar               7                      3   \n",
      "8                   Cambodia               7                      3   \n",
      "9                  Sri Lanka               7                      4   \n",
      "10                    Brazil               7                      4   \n",
      "11                  Mongolia               6                      3   \n",
      "12                    Sweden               8                      4   \n",
      "13                   Veitnam               6                      3   \n",
      "\n",
      "    Num_All_Inclusive_Hotels Most_Visited_City  \n",
      "0                       1200            London  \n",
      "1                       1000           Chennai  \n",
      "2                       1100          New York  \n",
      "3                        500       Mexico City  \n",
      "4                        700             Paris  \n",
      "5                        900          Auckland  \n",
      "6                       1000            Sydney  \n",
      "7                        400      Antananarivo  \n",
      "8                        300        Angkor Wat  \n",
      "9                        700          Sigiriya  \n",
      "10                       750    Rio de Janerio  \n",
      "11                       500         Karakorum  \n",
      "12                       800         Stockholm  \n",
      "13                       600        Halong Bay  \n"
     ]
    }
   ],
   "source": [
    "# 6. Find all the destinations where there are more than 9 all-inclusive hotels.\n",
    "print(\"All the destinations where there are more than 9 all-inclusive hotels:\")\n",
    "print(tourist_data[tourist_data[\"Num_All_Inclusive_Hotels\"] > 9])\n"
   ]
  },
  {
   "cell_type": "code",
   "execution_count": 16,
   "metadata": {},
   "outputs": [
    {
     "name": "stdout",
     "output_type": "stream",
     "text": [
      "Filter the data by score above 8:\n",
      "     Destinations  Feedback_Score  Avg_Hotel_Star_Rating  \\\n",
      "0  United Kingdom               9                      4   \n",
      "5     New Zealand               9                      4   \n",
      "\n",
      "   Num_All_Inclusive_Hotels Most_Visited_City  \n",
      "0                      1200            London  \n",
      "5                       900          Auckland  \n"
     ]
    }
   ],
   "source": [
    "# 7. Filter the data by score above 8.\n",
    "print(\"Filter the data by score above 8:\")\n",
    "print(tourist_data[tourist_data[\"Feedback_Score\"] > 8])"
   ]
  },
  {
   "cell_type": "code",
   "execution_count": 15,
   "metadata": {},
   "outputs": [
    {
     "name": "stdout",
     "output_type": "stream",
     "text": [
      "Filter the data by score below 2:\n",
      "Empty DataFrame\n",
      "Columns: [Destinations, Feedback_Score, Avg_Hotel_Star_Rating, Num_All_Inclusive_Hotels, Most_Visited_City]\n",
      "Index: []\n"
     ]
    }
   ],
   "source": [
    "# 8. Filter the data score below 2 ( I need to know if these destinations should be removed or there is a problem)\n",
    "print(\"Filter the data by score below 2:\")\n",
    "print(tourist_data[tourist_data[\"Feedback_Score\"] < 2])"
   ]
  },
  {
   "cell_type": "code",
   "execution_count": 14,
   "metadata": {},
   "outputs": [
    {
     "name": "stdout",
     "output_type": "stream",
     "text": [
      "Correlation between number of all-inclusive hotels and score:  0.6874493449556913\n"
     ]
    }
   ],
   "source": [
    "# Extensions\n",
    "# 1. Is there a correlation between number of all-inclusive hotels and score?\n",
    "corr = tourist_data[\"Num_All_Inclusive_Hotels\"].corr(tourist_data[\"Feedback_Score\"])\n",
    "print(\"Correlation between number of all-inclusive hotels and score: \", corr)\n"
   ]
  },
  {
   "cell_type": "code",
   "execution_count": 13,
   "metadata": {},
   "outputs": [
    {
     "data": {
      "image/png": "[encoded data removed]",
      "text/plain": [
       "<Figure size 432x288 with 1 Axes>"
      ]
     },
     "metadata": {
      "needs_background": "light"
     },
     "output_type": "display_data"
    }
   ],
   "source": [
    "# Extensions\n",
    "# 2. Create a data visualisation diagram to show destination and highest scores?\n",
    "tourist_data.plot(kind='scatter', x='Destinations', y='Feedback_Score')\n",
    "plt.show()\n"
   ]
  }
 ],
 "metadata": {
  "interpreter": {
   "hash": "6e5e6b605aad80a6084b2614536acd03c5e3634d000996c2791e2a396cc9e796"
  },
  "kernelspec": {
   "display_name": "Python 3.9.8 64-bit (windows store)",
   "language": "python",
   "name": "python3"
  },
  "language_info": {
   "codemirror_mode": {
    "name": "ipython",
    "version": 3
   },
   "file_extension": ".py",
   "mimetype": "text/x-python",
   "name": "python",
   "nbconvert_exporter": "python",
   "pygments_lexer": "ipython3",
   "version": "3.9.9"
  },
  "orig_nbformat": 4
 },
 "nbformat": 4,
 "nbformat_minor": 2
}
