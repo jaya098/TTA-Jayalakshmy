{
 "cells": [
  {
   "cell_type": "code",
   "execution_count": 2,
   "source": [
    "#Python session 1 DA - task1\r\n",
    "import random\r\n",
    "\r\n",
    "random_number = random.randint(1, 100)\r\n",
    "user_name = input(\"Please enter your name: \")\r\n",
    "user_number = int(input(\"Please enter a random number between 1 and 100: \"))\r\n",
    "user_name = user_name.capitalize()\r\n",
    "if random_number == user_number:\r\n",
    "    print(\"WOW! \" + user_name + \" Your guess is correct\")\r\n",
    "else:\r\n",
    "    print(\"Its not correct. \" + user_name + \"! Better luck next time.\")\r\n"
   ],
   "outputs": [
    {
     "output_type": "stream",
     "name": "stdout",
     "text": [
      "Its not correct. 44! Better luck next time.\n"
     ]
    }
   ],
   "metadata": {}
  },
  {
   "cell_type": "code",
   "execution_count": null,
   "source": [
    "# Python session 1 DA - task 2\r\n",
    "print(\"Jokes!\")\r\n",
    "user_input = int(input(\"Enter your favourite number between 1 and 100: \"))\r\n",
    "if user_input <= 33:\r\n",
    "    print(\"What do you call London without electricity?\\nLondoff.\")\r\n",
    "elif user_input >= 67:\r\n",
    "    print(\"What did Shakespeare eat for lunch?\\nCaesar salad.\")\r\n",
    "else:\r\n",
    "    print('I bought some new “London Bridge Jeans.”\\nThey keep falling down.')\r\n"
   ],
   "outputs": [],
   "metadata": {}
  },
  {
   "cell_type": "code",
   "execution_count": null,
   "source": [
    "# Python session 1 DA - task 3\r\n",
    "starter = input(\"Enter your favourite starter: \")\r\n",
    "main_course = input(\"Enter main course:\")\r\n",
    "dessert = input(\"Enter your favourite dessert: \")\r\n",
    "drink = input(\"Enter the drink:\")\r\n",
    "print(\"Your favourite meal is \"+starter+\", \"+main_course+\", \"+dessert+\" with a glass of \"+drink)"
   ],
   "outputs": [],
   "metadata": {}
  },
  {
   "cell_type": "code",
   "execution_count": null,
   "source": [
    "# Python session 1 DA - task 4\r\n",
    "initial_cost = 2000\r\n",
    "print(f\"Initial cost of a motorbike is {initial_cost}\")\r\n",
    "final_cost = initial_cost\r\n",
    "year = 1\r\n",
    "while final_cost != 1000:\r\n",
    "    year = year+1\r\n",
    "    final_cost = final_cost - ((final_cost*10)/100)\r\n",
    "    if final_cost < 1000:\r\n",
    "        break\r\n",
    "    print(f\"Cost of the bike decreased to {round(final_cost)} in year: {year}\")"
   ],
   "outputs": [],
   "metadata": {}
  },
  {
   "cell_type": "code",
   "execution_count": null,
   "source": [
    "# Python session 1 DA - task 5\r\n",
    "number_1 = int(input(\"Enter 1st number: \"))\r\n",
    "number_2 = int(input(\"Enter 2nd number: \"))\r\n",
    "print(\"Please select one of the below operators:\")\r\n",
    "print(\"'a' - Addition\\n'b' - Subtraction\\n'c' - Division\\n'd' - Multiplication\")\r\n",
    "print(\"'e' - ** square to the power of\")\r\n",
    "option = input(\"Enter your selection: \")\r\n",
    "if option == 'a':\r\n",
    "    output = number_1 + number_2\r\n",
    "    print(f\"{number_1} + {number_2} = {output}\")\r\n",
    "elif option == 'b':\r\n",
    "    output = number_1 - number_2\r\n",
    "    print(f\"{number_1} - {number_2} = {output}\")\r\n",
    "elif option == 'c':\r\n",
    "    output = number_1 * number_2\r\n",
    "    print(f\"{number_1} * {number_2} = {output}\")\r\n",
    "elif option == 'd':\r\n",
    "    output = number_1 / number_2\r\n",
    "    print(f\"{number_1} / {number_2} = {output}\")\r\n",
    "elif option == 'e':\r\n",
    "    output = number_1 ** number_2\r\n",
    "    print(f\"{number_1} ** {number_2} = {output}\")"
   ],
   "outputs": [],
   "metadata": {}
  },
  {
   "cell_type": "code",
   "execution_count": null,
   "source": [
    "# Python session 2 DA - task 2\r\n",
    "def cal_bike(initial,percent_decrease):\r\n",
    "    initial_cost = initial\r\n",
    "    print(f\"Initial cost of a motorbike is {initial_cost}\")\r\n",
    "    final_cost = initial_cost\r\n",
    "    year = 1\r\n",
    "    while final_cost != 1000:\r\n",
    "        year = year+1\r\n",
    "        final_cost = final_cost - ((final_cost*percent_decrease)/100)\r\n",
    "        if final_cost < 1000:\r\n",
    "            break\r\n",
    "        print(f\"Cost of the bike decreased to {round(final_cost)} in year: {year}\")\r\n",
    "\r\n",
    "\r\n",
    "cal_bike(2000,10)"
   ],
   "outputs": [],
   "metadata": {}
  },
  {
   "cell_type": "code",
   "execution_count": null,
   "source": [
    "# Python session 2 DA - task 3\r\n",
    "def addition(a, b):\r\n",
    "    output = a + b\r\n",
    "    print(f\"{a} + {b} = {output}\")\r\n",
    "\r\n",
    "\r\n",
    "def subtraction(a, b):\r\n",
    "    output = a - b\r\n",
    "    print(f\"{a} - {b} = {output}\")\r\n",
    "\r\n",
    "\r\n",
    "def multiplication(a, b):\r\n",
    "    output = a * b\r\n",
    "    print(f\"{a} * {b} = {output}\")\r\n",
    "\r\n",
    "\r\n",
    "def division(a, b):\r\n",
    "    output = a / b\r\n",
    "    print(f\"{a} / {b} = {output}\")\r\n",
    "\r\n",
    "\r\n",
    "def square_root(a, b):\r\n",
    "    output = a ** b\r\n",
    "    print(f\"{a} ** {b} = {output}\")\r\n",
    "\r\n",
    "\r\n",
    "number_1 = int(input(\"Enter 1st number: \"))\r\n",
    "number_2 = int(input(\"Enter 2nd number: \"))\r\n",
    "print(\"Please select one of the below operators:\")\r\n",
    "print(\"'a' - Addition\\n'b' - Subtraction\\n'c' - Division\\n'd' - Multiplication\")\r\n",
    "print(\"'e' - ** square to the power of\")\r\n",
    "option = input(\"Enter your selection: \")\r\n",
    "if option == 'a':\r\n",
    "    addition(number_1, number_2)\r\n",
    "\r\n",
    "elif option == 'b':\r\n",
    "    subtraction(number_1, number_2)\r\n",
    "elif option == 'c':\r\n",
    "    division(number_1, number_2)\r\n",
    "elif option == 'd':\r\n",
    "    multiplication(number_1, number_2)\r\n",
    "elif option == 'e':\r\n",
    "    square_root(number_1, number_2)\r\n"
   ],
   "outputs": [],
   "metadata": {}
  }
 ],
 "metadata": {
  "orig_nbformat": 4,
  "language_info": {
   "name": "python",
   "version": "3.9.0",
   "mimetype": "text/x-python",
   "codemirror_mode": {
    "name": "ipython",
    "version": 3
   },
   "pygments_lexer": "ipython3",
   "nbconvert_exporter": "python",
   "file_extension": ".py"
  },
  "kernelspec": {
   "name": "python3",
   "display_name": "Python 3.9.0 64-bit"
  },
  "interpreter": {
   "hash": "51da98e5ffb82ff3fa1d3475b20a3c70841b732126cbf27902f9cd1eab2d1ec2"
  }
 },
 "nbformat": 4,
 "nbformat_minor": 2
}